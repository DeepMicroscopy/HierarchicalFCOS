{
 "cells": [
  {
   "cell_type": "markdown",
   "id": "25988e6a",
   "metadata": {},
   "source": [
    "## Hierarchical Anchor-free Object Detection for Atypical and Typical Mitosis Subtyping"
   ]
  },
  {
   "cell_type": "code",
   "execution_count": 1,
   "id": "d97bcda9-1b3b-44cd-9948-a2eb0d5d89f8",
   "metadata": {},
   "outputs": [],
   "source": [
    "%load_ext autoreload\n",
    "%autoreload 2\n",
    "run = 1"
   ]
  },
  {
   "cell_type": "code",
   "execution_count": 2,
   "id": "b5250031-684e-4dd3-be07-9bb171588349",
   "metadata": {},
   "outputs": [],
   "source": [
    "import torch\n",
    "import pickle\n",
    "import numpy\n",
    "from SlideRunner_dataAccess.database import Database\n",
    "import pytorch_lightning as pl\n",
    "import albumentations as A\n",
    "import wandb\n",
    "\n",
    "from src.datamodule import MitosisTwoSubclassDataModule\n",
    "from src.fcos.litmodel import LitHFCOS\n"
   ]
  },
  {
   "cell_type": "markdown",
   "id": "85cd248a",
   "metadata": {},
   "source": [
    "## Build annotations dictionary"
   ]
  },
  {
   "cell_type": "code",
   "execution_count": 3,
   "id": "a55be88b",
   "metadata": {},
   "outputs": [],
   "source": [
    "db = 'databases_atypia/MIDOG.sqlite'\n",
    "DB = Database().open(db)\n",
    "classes = {x:y for x,y,_,_ in DB.getAllClasses() }\n",
    "databases_directories = [['databases_atypia/MIDOG.sqlite', 'images_midog_training/'],\n",
    "                         ['databases_atypia/MIDOG_preliminaryTest.sqlite', 'images_midog_preliminarytest/'],\n",
    "                         ['databases_atypia/MIDOG_final_TestSet.sqlite', 'images_midog_finaltest/']]\n",
    "\n",
    "annotations_dict={}\n",
    "class_mapping = { 'mitotic figure' : -1,\n",
    "                  'Mitosis - AMF OTHER': 0,\n",
    "                  'Mitosis - AMF BIPOLAR ASYMMETRIC CAN ALSO HAVE SEGREGATION': 0,\n",
    "                  'Mitosis - AMF MULTIPOLAR ASYMMETRY CAN ALSO HAVE SEGREGATION': 0,\n",
    "                  'Mitosis - AMF SEGREGATION ONLY':0,\n",
    "                  'Mitosis - RING SHAPE (PROMETAPHASE OR METAPHASE)': 1,\n",
    "                  'Mitosis - NORMAL ANAPHASE-TELOPHASE': 2,\n",
    "                  'Mitosis - NORMAL PROMETAPHASE': 3,\n",
    "                  'Mitosis - NORMAL METAPHASE': 4\n",
    "                }\n",
    "\n",
    "subclass_names = ['N/A','AMF', 'RING SHAPE', 'ANAPHASE-TELOPHASE','PROMETAPHASE','METAPHASE']\n",
    "value_to_class_DB = {y:x for x,y,_,_ in DB.getAllClasses() }\n",
    "value_to_class = {x:y for x,y in enumerate(subclass_names) }\n",
    "\n",
    "\n",
    "for dbfile, folder in databases_directories:\n",
    "    DB.open(dbfile)\n",
    "    for uid, fname in DB.listOfSlides()[0:150]:\n",
    "        fname = folder+fname\n",
    "        DB.loadIntoMemory(uid)\n",
    "        annotations_dict[fname] = {}\n",
    "        for annoI in DB.annotations:\n",
    "            anno = DB.annotations[annoI]\n",
    "            if (value_to_class_DB[anno.agreedClass] not in class_mapping): # skip non-mitotic figures\n",
    "                cls = -2\n",
    "            else:\n",
    "                cls = class_mapping[value_to_class_DB[anno.agreedClass]]\n",
    "            annotations_dict[fname][annoI] = {'x': [int(anno.x1-25),int(anno.x1+25)], 'y': [int(anno.y1-25), int(anno.y1+25)], 'class': cls}\n",
    "\n"
   ]
  },
  {
   "cell_type": "code",
   "execution_count": 4,
   "id": "8f2597a8",
   "metadata": {},
   "outputs": [
    {
     "data": {
      "text/plain": [
       "dict_values([{'x': [819, 869], 'y': [196, 246], 'class': -2}, {'x': [2354, 2404], 'y': [204, 254], 'class': 4}, {'x': [2207, 2257], 'y': [480, 530], 'class': 3}, {'x': [2688, 2738], 'y': [321, 371], 'class': -2}, {'x': [1603, 1653], 'y': [73, 123], 'class': -2}, {'x': [4997, 5047], 'y': [136, 186], 'class': -1}, {'x': [511, 561], 'y': [1751, 1801], 'class': 4}, {'x': [2309, 2359], 'y': [1100, 1150], 'class': -2}, {'x': [2598, 2648], 'y': [1710, 1760], 'class': -2}, {'x': [4302, 4352], 'y': [1715, 1765], 'class': -2}, {'x': [417, 467], 'y': [2314, 2364], 'class': 3}, {'x': [5955, 6005], 'y': [2501, 2551], 'class': 0}, {'x': [2919, 2969], 'y': [3233, 3283], 'class': -2}, {'x': [85, 135], 'y': [3980, 4030], 'class': -1}, {'x': [402, 452], 'y': [4402, 4452], 'class': 3}, {'x': [3112, 3162], 'y': [4209, 4259], 'class': 0}, {'x': [2786, 2836], 'y': [4108, 4158], 'class': -2}, {'x': [2932, 2982], 'y': [4500, 4550], 'class': -2}, {'x': [4168, 4218], 'y': [4904, 4954], 'class': 3}, {'x': [6129, 6179], 'y': [4873, 4923], 'class': 4}, {'x': [5262, 5312], 'y': [5282, 5332], 'class': -1}, {'x': [1474, 1524], 'y': [2230, 2280], 'class': -2}, {'x': [2033, 2083], 'y': [2748, 2798], 'class': -2}, {'x': [2702, 2752], 'y': [905, 955], 'class': -2}, {'x': [36, 86], 'y': [1370, 1420], 'class': -2}, {'x': [917, 967], 'y': [1589, 1639], 'class': -2}])"
      ]
     },
     "execution_count": 4,
     "metadata": {},
     "output_type": "execute_result"
    }
   ],
   "source": [
    "annotations_dict[fname].values()"
   ]
  },
  {
   "cell_type": "code",
   "execution_count": 5,
   "id": "ad3a91ae",
   "metadata": {},
   "outputs": [
    {
     "name": "stderr",
     "output_type": "stream",
     "text": [
      "\u001b[34m\u001b[1mwandb\u001b[0m: Currently logged in as: \u001b[33mmaubreville\u001b[0m (\u001b[33mimi\u001b[0m). Use \u001b[1m`wandb login --relogin`\u001b[0m to force relogin\n"
     ]
    },
    {
     "data": {
      "text/html": [
       "wandb version 0.13.5 is available!  To upgrade, please run:\n",
       " $ pip install wandb --upgrade"
      ],
      "text/plain": [
       "<IPython.core.display.HTML object>"
      ]
     },
     "metadata": {},
     "output_type": "display_data"
    },
    {
     "data": {
      "text/html": [
       "Tracking run with wandb version 0.12.16"
      ],
      "text/plain": [
       "<IPython.core.display.HTML object>"
      ]
     },
     "metadata": {},
     "output_type": "display_data"
    },
    {
     "data": {
      "text/html": [
       "Run data is saved locally in <code>/home/aubreville/code/HierarchicalFCOS/wandb/run-20221203_140945-2ksarhpc</code>"
      ],
      "text/plain": [
       "<IPython.core.display.HTML object>"
      ]
     },
     "metadata": {},
     "output_type": "display_data"
    },
    {
     "data": {
      "text/html": [
       "Syncing run <strong><a href=\"https://wandb.ai/imi/HFCOS/runs/2ksarhpc\" target=\"_blank\">HFCOS-Mitosis-HE-run14</a></strong> to <a href=\"https://wandb.ai/imi/HFCOS\" target=\"_blank\">Weights & Biases</a> (<a href=\"https://wandb.me/run\" target=\"_blank\">docs</a>)<br/>"
      ],
      "text/plain": [
       "<IPython.core.display.HTML object>"
      ]
     },
     "metadata": {},
     "output_type": "display_data"
    },
    {
     "data": {
      "text/html": [
       "<button onClick=\"this.nextSibling.style.display='block';this.style.display='none';\">Display W&B run</button><iframe src=\"https://wandb.ai/imi/HFCOS/runs/2ksarhpc?jupyter=true\" style=\"border:none;width:100%;height:420px;display:none;\"></iframe>"
      ],
      "text/plain": [
       "<wandb.sdk.wandb_run.Run at 0x7f13fd5acc70>"
      ]
     },
     "execution_count": 5,
     "metadata": {},
     "output_type": "execute_result"
    }
   ],
   "source": [
    "wandb.init(entity=\"imi\", project=\"HFCOS\", name='HFCOS-Mitosis-HE-run%d' % run)\n"
   ]
  },
  {
   "cell_type": "code",
   "execution_count": 6,
   "id": "92e7182f",
   "metadata": {},
   "outputs": [
    {
     "name": "stderr",
     "output_type": "stream",
     "text": [
      "/home/aubreville/.local/lib/python3.8/site-packages/albumentations/augmentations/dropout/cutout.py:50: FutureWarning: Cutout has been deprecated. Please use CoarseDropout\n",
      "  warnings.warn(\n"
     ]
    },
    {
     "name": "stdout",
     "output_type": "stream",
     "text": [
      "Labels for sampling {-1: 546, 0: 200, 1: 25, 2: 98, 3: 524, 4: 573, -2: 4139}\n",
      "Labels for sampling {-1: 128, 0: 57, 1: 3, 2: 22, 3: 150, 4: 184, -2: 1145}\n"
     ]
    }
   ],
   "source": [
    "import numpy as np\n",
    "img_dir = './'\n",
    "batch_size = 8\n",
    "crop_size = (1024,1024)\n",
    "\n",
    "num_workers = 8\n",
    "\n",
    "transform = A.Compose([\n",
    "    A.HorizontalFlip(p=0.3),\n",
    "    A.ShiftScaleRotate(p=0.5),\n",
    "    A.Cutout(p=0.2, max_w_size=100, max_h_size=100, num_holes=4),\n",
    "    A.ColorJitter(brightness=0.2, contrast=0.1, saturation=0.1, hue=0.05, p=0.3)\n",
    "], bbox_params=A.BboxParams(format='pascal_voc', label_fields = ['labels','sub_labels']))\n",
    "\n",
    "# create datamodule\n",
    "dm = MitosisTwoSubclassDataModule(img_dir,\n",
    "                               annotations_dict,\n",
    "                               labels=np.arange(-1,5), # labels for stratified sampling\n",
    "                               batch_size=batch_size,\n",
    "                               crop_size=crop_size,\n",
    "                               num_workers = num_workers,\n",
    "                               num_train_samples=2000,\n",
    "                               num_val_samples=2000,\n",
    "                               train_transforms = transform)\n"
   ]
  },
  {
   "cell_type": "code",
   "execution_count": 7,
   "id": "2bf5722c",
   "metadata": {},
   "outputs": [
    {
     "name": "stderr",
     "output_type": "stream",
     "text": [
      "/home/aubreville/.local/lib/python3.8/site-packages/pytorch_lightning/loggers/wandb.py:396: UserWarning: There is a wandb run already in progress and newly created instances of `WandbLogger` will reuse this run. If this is not desired, call `wandb.finish()` before instantiating `WandbLogger`.\n",
      "  rank_zero_warn(\n",
      "/home/aubreville/.local/lib/python3.8/site-packages/torchvision/models/_utils.py:135: UserWarning: Using 'weights' as positional parameter(s) is deprecated since 0.13 and may be removed in the future. Please use keyword parameter(s) instead.\n",
      "  warnings.warn(\n",
      "/home/aubreville/.local/lib/python3.8/site-packages/torchvision/models/_utils.py:223: UserWarning: Arguments other than a weight enum or `None` for 'weights' are deprecated since 0.13 and may be removed in the future. The current behavior is equivalent to passing `weights=ResNet18_Weights.IMAGENET1K_V1`. You can also use `weights=ResNet18_Weights.DEFAULT` to get the most up-to-date weights.\n",
      "  warnings.warn(msg)\n",
      "GPU available: True (cuda), used: True\n",
      "TPU available: False, using: 0 TPU cores\n",
      "IPU available: False, using: 0 IPUs\n",
      "HPU available: False, using: 0 HPUs\n",
      "LOCAL_RANK: 0 - CUDA_VISIBLE_DEVICES: [0]\n",
      "/home/aubreville/.local/lib/python3.8/site-packages/pytorch_lightning/core/optimizer.py:329: RuntimeWarning: The lr scheduler dict contains the key(s) ['interval', 'frequency'], but the keys will be ignored. You need to call `lr_scheduler.step()` manually in manual optimization.\n",
      "  rank_zero_warn(\n",
      "\n",
      "  | Name   | Type                 | Params\n",
      "------------------------------------------------\n",
      "0 | model  | FCOS                 | 23.8 M\n",
      "1 | metric | MeanAveragePrecision | 0     \n",
      "------------------------------------------------\n",
      "23.8 M    Trainable params\n",
      "0         Non-trainable params\n",
      "23.8 M    Total params\n",
      "95.308    Total estimated model params size (MB)\n"
     ]
    },
    {
     "data": {
      "application/vnd.jupyter.widget-view+json": {
       "model_id": "",
       "version_major": 2,
       "version_minor": 0
      },
      "text/plain": [
       "Sanity Checking: 0it [00:00, ?it/s]"
      ]
     },
     "metadata": {},
     "output_type": "display_data"
    },
    {
     "data": {
      "application/vnd.jupyter.widget-view+json": {
       "model_id": "34dd3bbc994d4a568d8352608161bb8e",
       "version_major": 2,
       "version_minor": 0
      },
      "text/plain": [
       "Training: 0it [00:00, ?it/s]"
      ]
     },
     "metadata": {},
     "output_type": "display_data"
    },
    {
     "data": {
      "application/vnd.jupyter.widget-view+json": {
       "model_id": "",
       "version_major": 2,
       "version_minor": 0
      },
      "text/plain": [
       "Validation: 0it [00:00, ?it/s]"
      ]
     },
     "metadata": {},
     "output_type": "display_data"
    },
    {
     "name": "stderr",
     "output_type": "stream",
     "text": [
      "Metric val/loss improved. New best score: 5.008\n"
     ]
    },
    {
     "data": {
      "application/vnd.jupyter.widget-view+json": {
       "model_id": "",
       "version_major": 2,
       "version_minor": 0
      },
      "text/plain": [
       "Validation: 0it [00:00, ?it/s]"
      ]
     },
     "metadata": {},
     "output_type": "display_data"
    },
    {
     "name": "stderr",
     "output_type": "stream",
     "text": [
      "Metric val/loss improved by 3.401 >= min_delta = 0.0. New best score: 1.607\n"
     ]
    },
    {
     "data": {
      "application/vnd.jupyter.widget-view+json": {
       "model_id": "",
       "version_major": 2,
       "version_minor": 0
      },
      "text/plain": [
       "Validation: 0it [00:00, ?it/s]"
      ]
     },
     "metadata": {},
     "output_type": "display_data"
    },
    {
     "name": "stderr",
     "output_type": "stream",
     "text": [
      "Metric val/loss improved by 0.210 >= min_delta = 0.0. New best score: 1.396\n"
     ]
    },
    {
     "data": {
      "application/vnd.jupyter.widget-view+json": {
       "model_id": "",
       "version_major": 2,
       "version_minor": 0
      },
      "text/plain": [
       "Validation: 0it [00:00, ?it/s]"
      ]
     },
     "metadata": {},
     "output_type": "display_data"
    },
    {
     "name": "stderr",
     "output_type": "stream",
     "text": [
      "Metric val/loss improved by 0.116 >= min_delta = 0.0. New best score: 1.281\n"
     ]
    },
    {
     "data": {
      "application/vnd.jupyter.widget-view+json": {
       "model_id": "",
       "version_major": 2,
       "version_minor": 0
      },
      "text/plain": [
       "Validation: 0it [00:00, ?it/s]"
      ]
     },
     "metadata": {},
     "output_type": "display_data"
    },
    {
     "name": "stderr",
     "output_type": "stream",
     "text": [
      "Metric val/loss improved by 0.035 >= min_delta = 0.0. New best score: 1.246\n"
     ]
    },
    {
     "data": {
      "application/vnd.jupyter.widget-view+json": {
       "model_id": "",
       "version_major": 2,
       "version_minor": 0
      },
      "text/plain": [
       "Validation: 0it [00:00, ?it/s]"
      ]
     },
     "metadata": {},
     "output_type": "display_data"
    },
    {
     "name": "stderr",
     "output_type": "stream",
     "text": [
      "Metric val/loss improved by 0.048 >= min_delta = 0.0. New best score: 1.198\n"
     ]
    },
    {
     "data": {
      "application/vnd.jupyter.widget-view+json": {
       "model_id": "",
       "version_major": 2,
       "version_minor": 0
      },
      "text/plain": [
       "Validation: 0it [00:00, ?it/s]"
      ]
     },
     "metadata": {},
     "output_type": "display_data"
    },
    {
     "name": "stderr",
     "output_type": "stream",
     "text": [
      "Metric val/loss improved by 0.050 >= min_delta = 0.0. New best score: 1.148\n"
     ]
    },
    {
     "data": {
      "application/vnd.jupyter.widget-view+json": {
       "model_id": "",
       "version_major": 2,
       "version_minor": 0
      },
      "text/plain": [
       "Validation: 0it [00:00, ?it/s]"
      ]
     },
     "metadata": {},
     "output_type": "display_data"
    },
    {
     "data": {
      "application/vnd.jupyter.widget-view+json": {
       "model_id": "",
       "version_major": 2,
       "version_minor": 0
      },
      "text/plain": [
       "Validation: 0it [00:00, ?it/s]"
      ]
     },
     "metadata": {},
     "output_type": "display_data"
    },
    {
     "data": {
      "application/vnd.jupyter.widget-view+json": {
       "model_id": "",
       "version_major": 2,
       "version_minor": 0
      },
      "text/plain": [
       "Validation: 0it [00:00, ?it/s]"
      ]
     },
     "metadata": {},
     "output_type": "display_data"
    },
    {
     "data": {
      "application/vnd.jupyter.widget-view+json": {
       "model_id": "",
       "version_major": 2,
       "version_minor": 0
      },
      "text/plain": [
       "Validation: 0it [00:00, ?it/s]"
      ]
     },
     "metadata": {},
     "output_type": "display_data"
    },
    {
     "data": {
      "application/vnd.jupyter.widget-view+json": {
       "model_id": "",
       "version_major": 2,
       "version_minor": 0
      },
      "text/plain": [
       "Validation: 0it [00:00, ?it/s]"
      ]
     },
     "metadata": {},
     "output_type": "display_data"
    },
    {
     "data": {
      "application/vnd.jupyter.widget-view+json": {
       "model_id": "",
       "version_major": 2,
       "version_minor": 0
      },
      "text/plain": [
       "Validation: 0it [00:00, ?it/s]"
      ]
     },
     "metadata": {},
     "output_type": "display_data"
    },
    {
     "name": "stderr",
     "output_type": "stream",
     "text": [
      "Metric val/loss improved by 0.006 >= min_delta = 0.0. New best score: 1.141\n"
     ]
    },
    {
     "data": {
      "application/vnd.jupyter.widget-view+json": {
       "model_id": "",
       "version_major": 2,
       "version_minor": 0
      },
      "text/plain": [
       "Validation: 0it [00:00, ?it/s]"
      ]
     },
     "metadata": {},
     "output_type": "display_data"
    },
    {
     "data": {
      "application/vnd.jupyter.widget-view+json": {
       "model_id": "",
       "version_major": 2,
       "version_minor": 0
      },
      "text/plain": [
       "Validation: 0it [00:00, ?it/s]"
      ]
     },
     "metadata": {},
     "output_type": "display_data"
    },
    {
     "data": {
      "application/vnd.jupyter.widget-view+json": {
       "model_id": "",
       "version_major": 2,
       "version_minor": 0
      },
      "text/plain": [
       "Validation: 0it [00:00, ?it/s]"
      ]
     },
     "metadata": {},
     "output_type": "display_data"
    },
    {
     "data": {
      "application/vnd.jupyter.widget-view+json": {
       "model_id": "",
       "version_major": 2,
       "version_minor": 0
      },
      "text/plain": [
       "Validation: 0it [00:00, ?it/s]"
      ]
     },
     "metadata": {},
     "output_type": "display_data"
    },
    {
     "data": {
      "application/vnd.jupyter.widget-view+json": {
       "model_id": "",
       "version_major": 2,
       "version_minor": 0
      },
      "text/plain": [
       "Validation: 0it [00:00, ?it/s]"
      ]
     },
     "metadata": {},
     "output_type": "display_data"
    },
    {
     "data": {
      "application/vnd.jupyter.widget-view+json": {
       "model_id": "",
       "version_major": 2,
       "version_minor": 0
      },
      "text/plain": [
       "Validation: 0it [00:00, ?it/s]"
      ]
     },
     "metadata": {},
     "output_type": "display_data"
    },
    {
     "data": {
      "application/vnd.jupyter.widget-view+json": {
       "model_id": "",
       "version_major": 2,
       "version_minor": 0
      },
      "text/plain": [
       "Validation: 0it [00:00, ?it/s]"
      ]
     },
     "metadata": {},
     "output_type": "display_data"
    },
    {
     "data": {
      "application/vnd.jupyter.widget-view+json": {
       "model_id": "",
       "version_major": 2,
       "version_minor": 0
      },
      "text/plain": [
       "Validation: 0it [00:00, ?it/s]"
      ]
     },
     "metadata": {},
     "output_type": "display_data"
    },
    {
     "data": {
      "application/vnd.jupyter.widget-view+json": {
       "model_id": "",
       "version_major": 2,
       "version_minor": 0
      },
      "text/plain": [
       "Validation: 0it [00:00, ?it/s]"
      ]
     },
     "metadata": {},
     "output_type": "display_data"
    },
    {
     "data": {
      "application/vnd.jupyter.widget-view+json": {
       "model_id": "",
       "version_major": 2,
       "version_minor": 0
      },
      "text/plain": [
       "Validation: 0it [00:00, ?it/s]"
      ]
     },
     "metadata": {},
     "output_type": "display_data"
    },
    {
     "name": "stderr",
     "output_type": "stream",
     "text": [
      "Monitored metric val/loss did not improve in the last 10 records. Best score: 1.141. Signaling Trainer to stop.\n"
     ]
    }
   ],
   "source": [
    "from pytorch_lightning.loggers import WandbLogger\n",
    "from pytorch_lightning.callbacks.early_stopping import EarlyStopping\n",
    "\n",
    "wandb_logger = WandbLogger(name='HFCOS_l2', project=\"HFCOS\")\n",
    "\n",
    "model = LitHFCOS(batch_size = batch_size, subclass_names=subclass_names,\n",
    "                                     num_classes = 2,optimizer='AdamW', scheduler='BaselineLRScheduler',\n",
    "                                     num_subclasses = 2,num_subclasses_l2=4, backbone='resnet18')\n",
    "model.subclass_w = [1,1]\n",
    "\n",
    "trainer = pl.Trainer(max_epochs = 50, accelerator='gpu', \n",
    "                     callbacks=[EarlyStopping(monitor=\"val/loss\", mode=\"min\", verbose=True, patience=10)],\n",
    "                     logger =wandb_logger, reload_dataloaders_every_n_epochs=1)\n",
    "\n",
    "trainer.fit(model, datamodule=dm)"
   ]
  },
  {
   "cell_type": "code",
   "execution_count": 8,
   "id": "7c85a5df",
   "metadata": {},
   "outputs": [],
   "source": [
    "categories_l1 = {-1:'undefined',0:'atypical',1:'typical'}\n",
    "categories_l2 = {-1: 'undefined', 0:'RING SHAPE', 1:'ANAPHASE-TELOPHASE',2:'PROMETAPHASE',3:'METAPHASE'}\n"
   ]
  },
  {
   "cell_type": "code",
   "execution_count": 9,
   "id": "67b0c9d9",
   "metadata": {
    "scrolled": false
   },
   "outputs": [
    {
     "data": {
      "application/vnd.jupyter.widget-view+json": {
       "model_id": "8cf8ca7b93234935b96c25283f5c1c68",
       "version_major": 2,
       "version_minor": 0
      },
      "text/plain": [
       "  0%|          | 0/250 [00:04<?, ?it/s]"
      ]
     },
     "metadata": {},
     "output_type": "display_data"
    }
   ],
   "source": [
    "from tqdm.auto import tqdm\n",
    "from sklearn.metrics import mean_squared_error\n",
    "from src.utils import match_scores_targets\n",
    "model = model.eval().cuda()\n",
    "\n",
    "\n",
    "all_gt_scores = []\n",
    "all_predictions = []\n",
    "all_gt_scores_l2 = []\n",
    "all_predictions_l2 = []\n",
    "all_logits = []\n",
    "all_logits_l2 = []\n",
    "with torch.no_grad():\n",
    "    for n, (img,target) in enumerate(tqdm(dm.val_dataloader())):\n",
    "        \n",
    "        pred = model(img.cuda(),[{'boxes': y['boxes'].cuda(), 'labels': y['labels'].cuda(),\n",
    "                                  'sub_labels': y['sub_labels'].cuda(), 'sub_labels_l2': y['sub_labels_l2'].cuda()} for y in target])[0]\n",
    "        pred = [{x:y[x].cpu() for x in y } for y in pred]\n",
    "        for p,t in zip(pred,target):\n",
    "            boxes = p['boxes'].numpy()\n",
    "            scores = p['scores'].numpy()\n",
    "            scl_pred = p['sub_labels'].numpy()\n",
    "            scl_pred_l2 = p['sub_labels_l2'].numpy()\n",
    "            sclogits_pred = p['sub_logits'].numpy()\n",
    "            sclogits_pred_l2 = p['sub_logits_l2'].numpy()\n",
    "            \n",
    "            annos = t['boxes'].numpy()\n",
    "            scl_targets = t['sub_labels'].numpy()\n",
    "            scl_targets_l2 = t['sub_labels_l2'].numpy()\n",
    "            gt_scores, pred_scores,_,_ = match_scores_targets(boxes,scores,scl_pred,annos,scl_targets, radius = 25, det_th = 0.5)\n",
    "            gt_scores_l2, pred_scores_l2,_,_ = match_scores_targets(boxes,scores,scl_pred_l2,annos,scl_targets_l2, radius = 25, det_th = 0.5)\n",
    "            _, pred_logits,_,_ = match_scores_targets(boxes,scores,sclogits_pred,annos,scl_targets, radius = 25, det_th = 0.5)\n",
    "            _, pred_logits_l2,_,_ = match_scores_targets(boxes,scores,sclogits_pred_l2,annos,scl_targets_l2, radius = 25, det_th = 0.5)\n",
    "            \n",
    "            all_gt_scores.extend(gt_scores)\n",
    "            all_predictions.extend(pred_scores)\n",
    "\n",
    "            all_gt_scores_l2.extend(gt_scores_l2)\n",
    "            all_predictions_l2.extend(pred_scores_l2)\n",
    "    \n",
    "            all_logits.extend(pred_logits)\n",
    "            all_logits_l2.extend(pred_logits_l2)\n",
    "            \n"
   ]
  },
  {
   "cell_type": "code",
   "execution_count": 10,
   "id": "adb6cc32",
   "metadata": {},
   "outputs": [
    {
     "data": {
      "text/plain": [
       "Text(0.5, 1.0, '2-Level Hierarchical Classifier, AUC=0.849')"
      ]
     },
     "execution_count": 10,
     "metadata": {},
     "output_type": "execute_result"
    },
    {
     "data": {
      "image/png": "[encoded data removed]",
      "text/plain": [
       "<Figure size 432x288 with 1 Axes>"
      ]
     },
     "metadata": {
      "needs_background": "light"
     },
     "output_type": "display_data"
    }
   ],
   "source": [
    "import matplotlib.pyplot as plt\n",
    "sel = np.stack(all_gt_scores)>=0\n",
    "from sklearn.metrics import roc_curve\n",
    "fpr,tpr,thrs = roc_curve(y_score=np.stack(all_logits)[sel,1], y_true=np.stack(all_gt_scores)[sel])\n",
    "plt.plot(fpr,tpr)\n",
    "plt.xlabel('TPR')\n",
    "plt.plot([0,1],[0,1],'k--')\n",
    "plt.ylabel('FPR')\n",
    "\n",
    "from sklearn.metrics import roc_auc_score\n",
    "auc = roc_auc_score(y_score=np.stack(all_logits)[sel,1], y_true=np.stack(all_gt_scores)[sel])\n",
    "plt.title('2-Level Hierarchical Classifier, AUC=%.3f' % auc)\n",
    "\n"
   ]
  },
  {
   "cell_type": "code",
   "execution_count": 11,
   "id": "84cb72a7",
   "metadata": {},
   "outputs": [],
   "source": [
    "from sklearn.metrics import confusion_matrix,ConfusionMatrixDisplay\n",
    "cm1 = confusion_matrix(y_true=all_gt_scores, y_pred=all_predictions)\n",
    "cm2 = confusion_matrix(y_true=all_gt_scores_l2, y_pred=all_predictions_l2)\n",
    "#\n",
    "\n"
   ]
  },
  {
   "cell_type": "code",
   "execution_count": 12,
   "id": "6461f3d0",
   "metadata": {},
   "outputs": [
    {
     "data": {
      "text/plain": [
       "dict_values(['N/A', 'AMF', 'RING SHAPE', 'ANAPHASE-TELOPHASE', 'PROMETAPHASE', 'METAPHASE'])"
      ]
     },
     "execution_count": 12,
     "metadata": {},
     "output_type": "execute_result"
    }
   ],
   "source": [
    "value_to_class.values()"
   ]
  },
  {
   "cell_type": "code",
   "execution_count": 13,
   "id": "e19619ae",
   "metadata": {},
   "outputs": [
    {
     "data": {
      "text/plain": [
       "<sklearn.metrics._plot.confusion_matrix.ConfusionMatrixDisplay at 0x7f10f40399d0>"
      ]
     },
     "execution_count": 13,
     "metadata": {},
     "output_type": "execute_result"
    },
    {
     "data": {
      "image/png": "[encoded data removed]",
      "text/plain": [
       "<Figure size 432x288 with 2 Axes>"
      ]
     },
     "metadata": {
      "needs_background": "light"
     },
     "output_type": "display_data"
    }
   ],
   "source": [
    "ConfusionMatrixDisplay(confusion_matrix=cm1, display_labels=[x for x in categories_l1.values()]).plot(xticks_rotation='vertical')\n"
   ]
  },
  {
   "cell_type": "code",
   "execution_count": 14,
   "id": "224619c0",
   "metadata": {},
   "outputs": [
    {
     "name": "stdout",
     "output_type": "stream",
     "text": [
      "0.6767123287671233 0.8626959247648903\n"
     ]
    }
   ],
   "source": [
    "sens = cm1[1,1]/(cm1[1,1]+cm1[1,2])\n",
    "spec = cm1[2,2]/(cm1[2,2]+cm1[2,1])\n",
    "\n",
    "print(sens,spec)"
   ]
  },
  {
   "cell_type": "code",
   "execution_count": 15,
   "id": "90d07efc",
   "metadata": {},
   "outputs": [
    {
     "data": {
      "text/plain": [
       "<sklearn.metrics._plot.confusion_matrix.ConfusionMatrixDisplay at 0x7f112d7bc0d0>"
      ]
     },
     "execution_count": 15,
     "metadata": {},
     "output_type": "execute_result"
    },
    {
     "data": {
      "image/png": "[encoded data removed]",
      "text/plain": [
       "<Figure size 432x288 with 2 Axes>"
      ]
     },
     "metadata": {
      "needs_background": "light"
     },
     "output_type": "display_data"
    }
   ],
   "source": [
    "ConfusionMatrixDisplay(confusion_matrix=cm2, display_labels=[x for x in categories_l2.values() if 'not' not in x]).plot(xticks_rotation='vertical')\n"
   ]
  },
  {
   "cell_type": "code",
   "execution_count": 16,
   "id": "42277db6",
   "metadata": {},
   "outputs": [],
   "source": [
    "accuracy2 = np.sum((np.eye(5)*cm2))/np.sum(cm2[1:,:])\n",
    "accuracy1 = np.sum((np.eye(3)*cm1))/np.sum(cm1[1:,:])"
   ]
  },
  {
   "cell_type": "code",
   "execution_count": 17,
   "id": "b6a64dd9",
   "metadata": {},
   "outputs": [
    {
     "data": {
      "text/plain": [
       "(0.8280612244897959, 0.8551724137931035)"
      ]
     },
     "execution_count": 17,
     "metadata": {},
     "output_type": "execute_result"
    }
   ],
   "source": [
    "accuracy1, accuracy2"
   ]
  },
  {
   "cell_type": "code",
   "execution_count": 18,
   "id": "74f645cc",
   "metadata": {},
   "outputs": [],
   "source": [
    "cm_combined = confusion_matrix(y_true=np.array(all_gt_scores_l2)+np.array(all_gt_scores), y_pred=np.array(all_predictions_l2)+np.array(all_predictions))"
   ]
  },
  {
   "cell_type": "code",
   "execution_count": 19,
   "id": "fd0fc586",
   "metadata": {},
   "outputs": [
    {
     "data": {
      "text/plain": [
       "array([[  0,   0,  28,  36,  37, 171, 214],\n",
       "       [  0,   0,  43,  37,  78, 132,  75],\n",
       "       [  0,   0,   0,   0,   0,   0,   0],\n",
       "       [  0,   0,  24, 219,   0,   0,   0],\n",
       "       [  0,   0,   7,  28, 161,   7,   2],\n",
       "       [  0,   0,   9,   7,  23, 426,  64],\n",
       "       [  0,   0,   1,   5,  13,  37, 562]])"
      ]
     },
     "execution_count": 19,
     "metadata": {},
     "output_type": "execute_result"
    }
   ],
   "source": [
    "cm_combined"
   ]
  },
  {
   "cell_type": "code",
   "execution_count": 20,
   "id": "285cce60",
   "metadata": {},
   "outputs": [
    {
     "data": {
      "text/plain": [
       "['N/A', 'AMF', 'RING SHAPE', 'ANAPHASE-TELOPHASE', 'PROMETAPHASE', 'METAPHASE']"
      ]
     },
     "execution_count": 20,
     "metadata": {},
     "output_type": "execute_result"
    }
   ],
   "source": [
    "subclass_names"
   ]
  },
  {
   "cell_type": "markdown",
   "id": "19c4c038",
   "metadata": {},
   "source": [
    "# Evaluate on TUPAC16"
   ]
  },
  {
   "cell_type": "code",
   "execution_count": 21,
   "id": "1f3e7255",
   "metadata": {},
   "outputs": [],
   "source": [
    "db = 'databases_atypia/TUPAC_alternativeLabels_augmented.sqlite'\n",
    "DB = Database().open(db)\n",
    "classes = {x:y for x,y,_,_ in DB.getAllClasses() }\n",
    "databases_directories = [['databases_atypia/TUPAC_alternativeLabels_augmented.sqlite', 'images_mitosis_tupac16/'],\n",
    "                         ]\n",
    "\n",
    "annotations_dict_testset={}\n",
    "\n",
    "class_mapping = { 'Mitose' : -1,\n",
    "                  'Mitosis - AMF OTHER': 0,\n",
    "                  'Mitosis - AMF BIPOLAR ASYMMETRIC CAN ALSO HAVE SEGREGATION': 0,\n",
    "                  'Mitosis - AMF MULTIPOLAR ASYMMETRY CAN ALSO HAVE SEGREGATION': 0,\n",
    "                  'Mitosis - AMF SEGREGATION ONLY':0,\n",
    "                  'Mitosis - RING SHAPE (PROMETAPHASE OR METAPHASE)': 1,\n",
    "                  'Mitosis - NORMAL ANAPHASE-TELOPHASE': 2,\n",
    "                  'Mitosis - NORMAL PROMETAPHASE': 3,\n",
    "                  'Mitosis - NORMAL METAPHASE': 4\n",
    "                }\n",
    "\n",
    "subclass_names = ['N/A','AMF', 'RING SHAPE', 'ANAPHASE-TELOPHASE','PROMETAPHASE','METAPHASE']\n",
    "value_to_class_DB = {y:x for x,y,_,_ in DB.getAllClasses() }\n",
    "value_to_class = {x:y for x,y in enumerate(subclass_names) }\n",
    "\n",
    "skipped_classes=[]\n",
    "\n",
    "for dbfile, folder in databases_directories:\n",
    "    DB.open(dbfile)\n",
    "    for uid, fname in DB.listOfSlides()[0:150]:\n",
    "        fname = folder+fname\n",
    "        DB.loadIntoMemory(uid)\n",
    "        annotations_dict_testset[fname] = {}\n",
    "        for annoI in DB.annotations:\n",
    "            anno = DB.annotations[annoI]\n",
    "            if (value_to_class_DB[anno.agreedClass] not in class_mapping): # skip non-mitotic figures\n",
    "                skipped_classes.append(anno.agreedClass)\n",
    "                continue\n",
    "            cls = class_mapping[value_to_class_DB[anno.agreedClass]]\n",
    "            annotations_dict_testset[fname][annoI] = {'x': [int(anno.x1-25),int(anno.x1+25)], 'y': [int(anno.y1-25), int(anno.y1+25)], 'class': cls}\n",
    "\n"
   ]
  },
  {
   "cell_type": "code",
   "execution_count": 22,
   "id": "787a6c12",
   "metadata": {},
   "outputs": [],
   "source": [
    "from src.Dataset import HierarchicalSublabelsObjectsDataset\n",
    "from torch.utils.data import DataLoader\n",
    "\n",
    "testset = HierarchicalSublabelsObjectsDataset(annotations_dict=annotations_dict_testset,\n",
    "                                      slide_names=list(annotations_dict_testset.keys()),\n",
    "                                      path_to_slides='./',\n",
    "                                      labels=np.arange(-1,5),\n",
    "                                      crop_size=crop_size,\n",
    "                                      sampling='continuous',\n",
    "                                      pseudo_epoch_length=2000,\n",
    "                                      transformations=None)\n",
    "testset_dl = DataLoader(dataset = testset, batch_size = 8, shuffle = False, \n",
    "                        num_workers = 8, collate_fn = testset.collate_fn)"
   ]
  },
  {
   "cell_type": "code",
   "execution_count": 23,
   "id": "50a3faa8",
   "metadata": {},
   "outputs": [
    {
     "data": {
      "application/vnd.jupyter.widget-view+json": {
       "model_id": "72baf6f78edf488e8f5e9f25d3ed46a6",
       "version_major": 2,
       "version_minor": 0
      },
      "text/plain": [
       "  0%|          | 0/1197 [00:09<?, ?it/s]"
      ]
     },
     "metadata": {},
     "output_type": "display_data"
    }
   ],
   "source": [
    "from tqdm.auto import tqdm\n",
    "from sklearn.metrics import mean_squared_error\n",
    "from src.utils import match_scores_targets,get_number_of_fps\n",
    "model = model.eval().cuda()\n",
    "\n",
    "from torchmetrics.detection.mean_ap import MeanAveragePrecision\n",
    "\n",
    "all_gt_scores = []\n",
    "all_predictions = []\n",
    "all_gt_scores_l2 = []\n",
    "all_predictions_l2 = []\n",
    "all_logits = []\n",
    "all_logits_l2 = []\n",
    "metrics={}\n",
    "metric = MeanAveragePrecision(num_classes=2,iou_thresholds=[0.5], class_metrics=True)\n",
    "overallp = 0\n",
    "overallfp = 0\n",
    "overalltp = 0\n",
    "\n",
    "with torch.no_grad():\n",
    "    for n, (img,target) in enumerate(tqdm(testset_dl)):\n",
    "        pred = model(img.cuda(),[{'boxes': y['boxes'].cuda(), 'labels': y['labels'].cuda(),\n",
    "                                  'sub_labels': y['sub_labels'].cuda(), 'sub_labels_l2': y['sub_labels_l2'].cuda()} for y in target])[0]\n",
    "        pred = [{x:y[x].cpu() for x in y } for y in pred]\n",
    "        for p,t in zip(pred,target):\n",
    "            boxes = p['boxes'].numpy()\n",
    "            scores = p['scores'].numpy()\n",
    "            scl_pred = p['sub_labels'].numpy()\n",
    "            scl_pred_l2 = p['sub_labels_l2'].numpy()\n",
    "            sclogits_pred = p['sub_logits'].numpy()\n",
    "            sclogits_pred_l2 = p['sub_logits_l2'].numpy()\n",
    "            \n",
    "            annos = t['boxes'].numpy()\n",
    "            scl_targets = t['sub_labels'].numpy()\n",
    "            scl_targets_l2 = t['sub_labels_l2'].numpy()\n",
    "            gt_scores, pred_scores,_,_ = match_scores_targets(boxes,scores,scl_pred,annos,scl_targets, radius = 25, det_th = 0.5)\n",
    "            gt_scores_l2, pred_scores_l2,_,_ = match_scores_targets(boxes,scores,scl_pred_l2,annos,scl_targets_l2, radius = 25, det_th = 0.5)\n",
    "            _, pred_logits,_,_ = match_scores_targets(boxes,scores,sclogits_pred,annos,scl_targets, radius = 25, det_th = 0.5)\n",
    "            _, pred_logits_l2,_,_ = match_scores_targets(boxes,scores,sclogits_pred_l2,annos,scl_targets_l2, radius = 25, det_th = 0.5)\n",
    "            \n",
    "            all_gt_scores.extend(gt_scores)\n",
    "            all_predictions.extend(pred_scores)\n",
    "\n",
    "            all_gt_scores_l2.extend(gt_scores_l2)\n",
    "            all_predictions_l2.extend(pred_scores_l2)\n",
    "    \n",
    "            all_logits.extend(pred_logits)\n",
    "            all_logits_l2.extend(pred_logits_l2)\n",
    "            fps = get_number_of_fps(boxes,scores,annos)\n",
    "            overallfp = overallfp + fps\n",
    "\n",
    "            overalltp = overalltp+len(pred_scores)\n",
    "            overallp = overallp+len(annos)\n",
    "            # update metrics\n",
    "            targets=target\n",
    "            for idx, sample in enumerate(targets):\n",
    "                if sample['boxes'].size(0) == 0:\n",
    "                    targets[idx]['boxes'] = torch.zeros((1, 4), dtype=torch.float32)\n",
    "                    # === geändert wegen dataset Änderung === #\n",
    "                    targets[idx]['labels'] = torch.tensor([0],dtype=torch.int64)\n",
    "            metric.update(pred[0:len(targets)], targets)\n",
    "metrics = metric.compute()\n",
    "metrics['precision'] = overalltp / (overalltp + overallfp)\n",
    "metrics['recall'] = overalltp / (overallp)\n",
    "         "
   ]
  },
  {
   "cell_type": "code",
   "execution_count": 24,
   "id": "3aad323a",
   "metadata": {},
   "outputs": [
    {
     "data": {
      "image/png": "[encoded data removed]",
      "text/plain": [
       "<Figure size 432x288 with 1 Axes>"
      ]
     },
     "metadata": {
      "needs_background": "light"
     },
     "output_type": "display_data"
    }
   ],
   "source": [
    "sel = np.stack(all_gt_scores)>=0\n",
    "from sklearn.metrics import roc_curve\n",
    "fpr,tpr,thrs = roc_curve(y_score=np.stack(all_logits)[sel,1], y_true=np.stack(all_gt_scores)[sel])\n",
    "plt.plot(fpr,tpr)\n",
    "plt.ylabel('TPR')\n",
    "plt.plot([0,1],[0,1],'k--')\n",
    "plt.xlabel('1-FPR')\n",
    "\n",
    "from sklearn.metrics import roc_auc_score\n",
    "auc = roc_auc_score(y_score=np.stack(all_logits)[sel,1], y_true=np.stack(all_gt_scores)[sel])\n",
    "plt.title('2-Level Hierarchical Classifier, Atypical/Typical decision, AUC=%.3f' % auc)\n",
    "plt.savefig('ROC_atypical_typical_2_level_run%d.svg' % run)\n",
    "\n"
   ]
  },
  {
   "cell_type": "code",
   "execution_count": 25,
   "id": "9adf0cc8",
   "metadata": {},
   "outputs": [
    {
     "data": {
      "image/png": "[encoded data removed]",
      "text/plain": [
       "<Figure size 432x288 with 1 Axes>"
      ]
     },
     "metadata": {
      "needs_background": "light"
     },
     "output_type": "display_data"
    }
   ],
   "source": [
    "sel = np.stack(all_gt_scores_l2)>=0\n",
    "from sklearn.metrics import roc_curve\n",
    "for i in range(4):\n",
    "    fpr,tpr,thrs = roc_curve(y_score=np.stack(all_logits_l2)[sel,i], y_true=np.stack(all_gt_scores_l2)[sel]==i)\n",
    "    auc = roc_auc_score(y_score=np.stack(all_logits_l2)[sel,i], y_true=np.stack(all_gt_scores_l2)[sel]==i)\n",
    "    plt.plot(fpr,tpr, label=f'{list(categories_l2.values())[i+1]}, AUC={auc:.3f}')\n",
    "\n",
    "plt.ylabel('TPR')\n",
    "plt.plot([0,1],[0,1],'k--')\n",
    "plt.xlabel('1-FPR')\n",
    "\n",
    "from sklearn.metrics import roc_auc_score\n",
    "plt.legend()\n",
    "plt.title(f'2-Level Hierarchical Classifier, Mitotic Phase, One vs. Rest')\n",
    "\n",
    "#, AUC={auc:.3f}'  )\n",
    "plt.savefig('ROC_mitotic_phase_2_level_run%d.svg' % run)\n"
   ]
  },
  {
   "cell_type": "code",
   "execution_count": 26,
   "id": "9cbc6e2b",
   "metadata": {},
   "outputs": [],
   "source": [
    "from sklearn.metrics import confusion_matrix,ConfusionMatrixDisplay\n",
    "\n",
    "cm1 = confusion_matrix(y_true=all_gt_scores, y_pred=all_predictions)\n",
    "cm2 = confusion_matrix(y_true=all_gt_scores_l2, y_pred=all_predictions_l2)\n"
   ]
  },
  {
   "cell_type": "code",
   "execution_count": 27,
   "id": "eeae9d7f",
   "metadata": {},
   "outputs": [
    {
     "data": {
      "text/plain": [
       "<sklearn.metrics._plot.confusion_matrix.ConfusionMatrixDisplay at 0x7f10c61396a0>"
      ]
     },
     "execution_count": 27,
     "metadata": {},
     "output_type": "execute_result"
    },
    {
     "data": {
      "image/png": "[encoded data removed]",
      "text/plain": [
       "<Figure size 432x288 with 2 Axes>"
      ]
     },
     "metadata": {
      "needs_background": "light"
     },
     "output_type": "display_data"
    }
   ],
   "source": [
    "ConfusionMatrixDisplay(confusion_matrix=cm1, display_labels=[x for x in categories_l1.values()]).plot(xticks_rotation='vertical')\n"
   ]
  },
  {
   "cell_type": "code",
   "execution_count": 28,
   "id": "1606f1e7",
   "metadata": {},
   "outputs": [
    {
     "data": {
      "text/plain": [
       "<sklearn.metrics._plot.confusion_matrix.ConfusionMatrixDisplay at 0x7f1404828430>"
      ]
     },
     "execution_count": 28,
     "metadata": {},
     "output_type": "execute_result"
    },
    {
     "data": {
      "image/png": "[encoded data removed]",
      "text/plain": [
       "<Figure size 432x288 with 2 Axes>"
      ]
     },
     "metadata": {
      "needs_background": "light"
     },
     "output_type": "display_data"
    }
   ],
   "source": [
    "ConfusionMatrixDisplay(confusion_matrix=cm2, display_labels=[x for x in categories_l2.values()]).plot(xticks_rotation='vertical')\n"
   ]
  },
  {
   "cell_type": "code",
   "execution_count": null,
   "id": "e3077796",
   "metadata": {},
   "outputs": [],
   "source": []
  },
  {
   "cell_type": "code",
   "execution_count": 29,
   "id": "a010e4e7",
   "metadata": {},
   "outputs": [],
   "source": [
    "torch.save({'cm1':cm1,'cm2':cm2,\n",
    "                              'all_gt_scores': all_gt_scores,\n",
    "                              'all_gt_scores_l2': all_gt_scores_l2,\n",
    "                              'all_predictions':all_predictions,\n",
    "                              'all_predictions_l2': all_predictions_l2, 'metrics': metrics}, 'run%d_hfcos.pth' % run)"
   ]
  },
  {
   "cell_type": "code",
   "execution_count": 30,
   "id": "82caac67",
   "metadata": {},
   "outputs": [
    {
     "data": {
      "text/plain": [
       "14"
      ]
     },
     "execution_count": 30,
     "metadata": {},
     "output_type": "execute_result"
    }
   ],
   "source": [
    "run"
   ]
  },
  {
   "cell_type": "code",
   "execution_count": null,
   "id": "a9ad1346",
   "metadata": {},
   "outputs": [],
   "source": []
  }
 ],
 "metadata": {
  "kernelspec": {
   "display_name": "Python 3 (ipykernel)",
   "language": "python",
   "name": "python3"
  },
  "language_info": {
   "codemirror_mode": {
    "name": "ipython",
    "version": 3
   },
   "file_extension": ".py",
   "mimetype": "text/x-python",
   "name": "python",
   "nbconvert_exporter": "python",
   "pygments_lexer": "ipython3",
   "version": "3.8.10"
  },
  "vscode": {
   "interpreter": {
    "hash": "97825ee788e89970c5e1326e3a8e2ffc83913c5a8306b832b194d1fccd0a0039"
   }
  }
 },
 "nbformat": 4,
 "nbformat_minor": 5
}
