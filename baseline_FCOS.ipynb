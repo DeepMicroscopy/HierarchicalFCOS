{
 "cells": [
  {
   "cell_type": "markdown",
   "id": "25988e6a",
   "metadata": {},
   "source": [
    "## Baseline for Hierarchical Anchor-free Object Detection for Typical and Atypical Mitosis Subtyping"
   ]
  },
  {
   "cell_type": "code",
   "execution_count": 1,
   "id": "d97bcda9-1b3b-44cd-9948-a2eb0d5d89f8",
   "metadata": {},
   "outputs": [],
   "source": [
    "%load_ext autoreload\n",
    "%autoreload 2\n",
    "run=1"
   ]
  },
  {
   "cell_type": "code",
   "execution_count": 2,
   "id": "b5250031-684e-4dd3-be07-9bb171588349",
   "metadata": {},
   "outputs": [],
   "source": [
    "import torch\n",
    "import pickle\n",
    "import numpy\n",
    "from SlideRunner_dataAccess.database import Database\n",
    "import pytorch_lightning as pl\n",
    "import albumentations as A\n",
    "\n",
    "from src.datamodule import MitosisDataModule\n",
    "from src.fcos.litmodel import LitFCOS\n",
    "from src.fcos.model import make_fcos_model\n",
    "\n",
    "import wandb\n"
   ]
  },
  {
   "cell_type": "markdown",
   "id": "85cd248a",
   "metadata": {},
   "source": [
    "## Build annotations dictionary\n",
    "\n",
    "We train on the MIDOG 2021 dataset. For increased data diversity, we also use the (non-public) test set for training."
   ]
  },
  {
   "cell_type": "code",
   "execution_count": 3,
   "id": "a55be88b",
   "metadata": {},
   "outputs": [],
   "source": [
    "db = 'databases_atypia/MIDOG.sqlite'\n",
    "DB = Database().open(db)\n",
    "annotations_dict = {}\n",
    "classes = {x:y for x,y,_,_ in DB.getAllClasses() }\n",
    "databases_directories = [['databases_atypia/MIDOG.sqlite', 'images_midog_training/'],\n",
    "                         ['databases_atypia/MIDOG_preliminaryTest.sqlite', 'images_midog_preliminarytest/'],\n",
    "                         ['databases_atypia/MIDOG_final_TestSet.sqlite', 'images_midog_finaltest/']]\n",
    "\n",
    "annotations_dict={}\n",
    "class_mapping = { 'mitotic figure' : 1,\n",
    "                  'Mitosis - AMF OTHER': 2,\n",
    "                  'Mitosis - AMF BIPOLAR ASYMMETRIC CAN ALSO HAVE SEGREGATION': 2,\n",
    "                  'Mitosis - AMF MULTIPOLAR ASYMMETRY CAN ALSO HAVE SEGREGATION': 2,\n",
    "                  'Mitosis - AMF SEGREGATION ONLY':2,\n",
    "                  'Mitosis - RING SHAPE (PROMETAPHASE OR METAPHASE)': 3,\n",
    "                  'Mitosis - NORMAL ANAPHASE-TELOPHASE': 4,\n",
    "                  'Mitosis - NORMAL PROMETAPHASE': 5,\n",
    "                  'Mitosis - NORMAL METAPHASE': 6\n",
    "                }\n",
    "\n",
    "subclass_names = ['Background', 'N/A','AMF', 'RING SHAPE', 'ANAPHASE-TELOPHASE','PROMETAPHASE','METAPHASE']\n",
    "value_to_class_DB = {y:x for x,y,_,_ in DB.getAllClasses() }\n",
    "value_to_class = {x:y for x,y in enumerate(subclass_names) }\n",
    "\n",
    "for dbfile, folder in databases_directories:\n",
    "    DB.open(dbfile)\n",
    "    for uid, fname in DB.listOfSlides()[0:150]:\n",
    "        fname = folder+fname\n",
    "        DB.loadIntoMemory(uid)\n",
    "        annotations_dict[fname] = {}\n",
    "        for annoI in DB.annotations:\n",
    "            anno = DB.annotations[annoI]\n",
    "            if (value_to_class_DB[anno.agreedClass] not in class_mapping): # skip non-mitotic figures\n",
    "                cls = -2\n",
    "            else:\n",
    "                cls = class_mapping[value_to_class_DB[anno.agreedClass]]\n",
    "            annotations_dict[fname][annoI] = {'x': [int(anno.x1-25),int(anno.x1+25)], 'y': [int(anno.y1-25), int(anno.y1+25)], 'class': cls}\n",
    "\n"
   ]
  },
  {
   "cell_type": "markdown",
   "id": "b607867c",
   "metadata": {},
   "source": [
    "This is how we represent the classes in a flattened vector:"
   ]
  },
  {
   "cell_type": "code",
   "execution_count": 4,
   "id": "422a0666",
   "metadata": {},
   "outputs": [
    {
     "data": {
      "text/plain": [
       "{0: 'Background',\n",
       " 1: 'N/A',\n",
       " 2: 'AMF',\n",
       " 3: 'RING SHAPE',\n",
       " 4: 'ANAPHASE-TELOPHASE',\n",
       " 5: 'PROMETAPHASE',\n",
       " 6: 'METAPHASE'}"
      ]
     },
     "execution_count": 4,
     "metadata": {},
     "output_type": "execute_result"
    }
   ],
   "source": [
    "value_to_class"
   ]
  },
  {
   "cell_type": "code",
   "execution_count": 5,
   "id": "bd70898c",
   "metadata": {},
   "outputs": [
    {
     "name": "stderr",
     "output_type": "stream",
     "text": [
      "\u001b[34m\u001b[1mwandb\u001b[0m: Currently logged in as: \u001b[33mmaubreville\u001b[0m (\u001b[33mimi\u001b[0m). Use \u001b[1m`wandb login --relogin`\u001b[0m to force relogin\n"
     ]
    },
    {
     "data": {
      "text/html": [
       "wandb version 0.13.5 is available!  To upgrade, please run:\n",
       " $ pip install wandb --upgrade"
      ],
      "text/plain": [
       "<IPython.core.display.HTML object>"
      ]
     },
     "metadata": {},
     "output_type": "display_data"
    },
    {
     "data": {
      "text/html": [
       "Tracking run with wandb version 0.12.16"
      ],
      "text/plain": [
       "<IPython.core.display.HTML object>"
      ]
     },
     "metadata": {},
     "output_type": "display_data"
    },
    {
     "data": {
      "text/html": [
       "Run data is saved locally in <code>/home/aubreville/code/HierarchicalFCOS/wandb/run-20221205_201453-322dg7xn</code>"
      ],
      "text/plain": [
       "<IPython.core.display.HTML object>"
      ]
     },
     "metadata": {},
     "output_type": "display_data"
    },
    {
     "data": {
      "text/html": [
       "Syncing run <strong><a href=\"https://wandb.ai/imi/HFCOS/runs/322dg7xn\" target=\"_blank\">FCOS-Mitosis-Baseline-105</a></strong> to <a href=\"https://wandb.ai/imi/HFCOS\" target=\"_blank\">Weights & Biases</a> (<a href=\"https://wandb.me/run\" target=\"_blank\">docs</a>)<br/>"
      ],
      "text/plain": [
       "<IPython.core.display.HTML object>"
      ]
     },
     "metadata": {},
     "output_type": "display_data"
    },
    {
     "data": {
      "text/html": [
       "<button onClick=\"this.nextSibling.style.display='block';this.style.display='none';\">Display W&B run</button><iframe src=\"https://wandb.ai/imi/HFCOS/runs/322dg7xn?jupyter=true\" style=\"border:none;width:100%;height:420px;display:none;\"></iframe>"
      ],
      "text/plain": [
       "<wandb.sdk.wandb_run.Run at 0x7efb63892730>"
      ]
     },
     "execution_count": 5,
     "metadata": {},
     "output_type": "execute_result"
    }
   ],
   "source": [
    "wandb.init(entity=\"imi\", project=\"HFCOS\", name='FCOS-Mitosis-Baseline-%d' % run)\n"
   ]
  },
  {
   "cell_type": "code",
   "execution_count": 6,
   "id": "92e7182f",
   "metadata": {},
   "outputs": [
    {
     "name": "stderr",
     "output_type": "stream",
     "text": [
      "/home/aubreville/.local/lib/python3.8/site-packages/albumentations/augmentations/dropout/cutout.py:50: FutureWarning: Cutout has been deprecated. Please use CoarseDropout\n",
      "  warnings.warn(\n"
     ]
    },
    {
     "name": "stdout",
     "output_type": "stream",
     "text": [
      "Labels for sampling {1: 546, 2: 200, 3: 25, 4: 98, 5: 524, 6: 573, -2: 4139}\n",
      "Labels for sampling {1: 128, 2: 57, 3: 3, 4: 22, 5: 150, 6: 184, -2: 1145}\n"
     ]
    }
   ],
   "source": [
    "import numpy as np\n",
    "img_dir = './'\n",
    "batch_size = 8\n",
    "crop_size = (1024,1024)\n",
    "\n",
    "num_workers = 8\n",
    "\n",
    "transform = A.Compose([\n",
    "    A.HorizontalFlip(p=0.3),\n",
    "    A.ShiftScaleRotate(p=0.5),\n",
    "    A.Cutout(p=0.2, max_w_size=100, max_h_size=100, num_holes=4),\n",
    "    A.ColorJitter(brightness=0.2, contrast=0.1, saturation=0.1, hue=0.05, p=0.3)\n",
    "], bbox_params=A.BboxParams(format='pascal_voc', label_fields = ['labels']))\n",
    "\n",
    "# create datamodule\n",
    "dm = MitosisDataModule(img_dir,\n",
    "                       annotations_dict,\n",
    "                       batch_size=batch_size,\n",
    "                       crop_size=crop_size,\n",
    "                       labels=np.arange(1,7),\n",
    "                       num_workers = num_workers,\n",
    "                       num_train_samples=2000,\n",
    "                       num_val_samples=2000,\n",
    "                       train_transforms = transform)\n"
   ]
  },
  {
   "cell_type": "markdown",
   "id": "6119a0b1",
   "metadata": {},
   "source": [
    "# Train the model (FCOS)"
   ]
  },
  {
   "cell_type": "code",
   "execution_count": 7,
   "id": "2bf5722c",
   "metadata": {},
   "outputs": [
    {
     "name": "stderr",
     "output_type": "stream",
     "text": [
      "/home/aubreville/.local/lib/python3.8/site-packages/pytorch_lightning/loggers/wandb.py:396: UserWarning: There is a wandb run already in progress and newly created instances of `WandbLogger` will reuse this run. If this is not desired, call `wandb.finish()` before instantiating `WandbLogger`.\n",
      "  rank_zero_warn(\n",
      "/home/aubreville/.local/lib/python3.8/site-packages/torchvision/models/_utils.py:135: UserWarning: Using 'weights' as positional parameter(s) is deprecated since 0.13 and may be removed in the future. Please use keyword parameter(s) instead.\n",
      "  warnings.warn(\n",
      "/home/aubreville/.local/lib/python3.8/site-packages/torchvision/models/_utils.py:223: UserWarning: Arguments other than a weight enum or `None` for 'weights' are deprecated since 0.13 and may be removed in the future. The current behavior is equivalent to passing `weights=ResNet18_Weights.IMAGENET1K_V1`. You can also use `weights=ResNet18_Weights.DEFAULT` to get the most up-to-date weights.\n",
      "  warnings.warn(msg)\n",
      "GPU available: True (cuda), used: True\n",
      "TPU available: False, using: 0 TPU cores\n",
      "IPU available: False, using: 0 IPUs\n",
      "HPU available: False, using: 0 HPUs\n",
      "LOCAL_RANK: 0 - CUDA_VISIBLE_DEVICES: [0]\n",
      "/home/aubreville/.local/lib/python3.8/site-packages/pytorch_lightning/core/optimizer.py:329: RuntimeWarning: The lr scheduler dict contains the key(s) ['interval', 'frequency'], but the keys will be ignored. You need to call `lr_scheduler.step()` manually in manual optimization.\n",
      "  rank_zero_warn(\n",
      "\n",
      "  | Name   | Type                 | Params\n",
      "------------------------------------------------\n",
      "0 | model  | FCOS                 | 19.1 M\n",
      "1 | metric | MeanAveragePrecision | 0     \n",
      "------------------------------------------------\n",
      "19.1 M    Trainable params\n",
      "0         Non-trainable params\n",
      "19.1 M    Total params\n",
      "76.399    Total estimated model params size (MB)\n"
     ]
    },
    {
     "data": {
      "application/vnd.jupyter.widget-view+json": {
       "model_id": "",
       "version_major": 2,
       "version_minor": 0
      },
      "text/plain": [
       "Sanity Checking: 0it [00:00, ?it/s]"
      ]
     },
     "metadata": {},
     "output_type": "display_data"
    },
    {
     "data": {
      "application/vnd.jupyter.widget-view+json": {
       "model_id": "437489b261ec4efcabd5754d9a076ec8",
       "version_major": 2,
       "version_minor": 0
      },
      "text/plain": [
       "Training: 0it [00:00, ?it/s]"
      ]
     },
     "metadata": {},
     "output_type": "display_data"
    },
    {
     "data": {
      "application/vnd.jupyter.widget-view+json": {
       "model_id": "",
       "version_major": 2,
       "version_minor": 0
      },
      "text/plain": [
       "Validation: 0it [00:00, ?it/s]"
      ]
     },
     "metadata": {},
     "output_type": "display_data"
    },
    {
     "name": "stderr",
     "output_type": "stream",
     "text": [
      "Metric val/loss improved. New best score: 2.821\n"
     ]
    },
    {
     "data": {
      "application/vnd.jupyter.widget-view+json": {
       "model_id": "",
       "version_major": 2,
       "version_minor": 0
      },
      "text/plain": [
       "Validation: 0it [00:00, ?it/s]"
      ]
     },
     "metadata": {},
     "output_type": "display_data"
    },
    {
     "name": "stderr",
     "output_type": "stream",
     "text": [
      "Metric val/loss improved by 1.423 >= min_delta = 0.0. New best score: 1.398\n"
     ]
    },
    {
     "data": {
      "application/vnd.jupyter.widget-view+json": {
       "model_id": "",
       "version_major": 2,
       "version_minor": 0
      },
      "text/plain": [
       "Validation: 0it [00:00, ?it/s]"
      ]
     },
     "metadata": {},
     "output_type": "display_data"
    },
    {
     "name": "stderr",
     "output_type": "stream",
     "text": [
      "Metric val/loss improved by 0.066 >= min_delta = 0.0. New best score: 1.332\n"
     ]
    },
    {
     "data": {
      "application/vnd.jupyter.widget-view+json": {
       "model_id": "",
       "version_major": 2,
       "version_minor": 0
      },
      "text/plain": [
       "Validation: 0it [00:00, ?it/s]"
      ]
     },
     "metadata": {},
     "output_type": "display_data"
    },
    {
     "name": "stderr",
     "output_type": "stream",
     "text": [
      "Metric val/loss improved by 0.120 >= min_delta = 0.0. New best score: 1.212\n"
     ]
    },
    {
     "data": {
      "application/vnd.jupyter.widget-view+json": {
       "model_id": "",
       "version_major": 2,
       "version_minor": 0
      },
      "text/plain": [
       "Validation: 0it [00:00, ?it/s]"
      ]
     },
     "metadata": {},
     "output_type": "display_data"
    },
    {
     "data": {
      "application/vnd.jupyter.widget-view+json": {
       "model_id": "",
       "version_major": 2,
       "version_minor": 0
      },
      "text/plain": [
       "Validation: 0it [00:00, ?it/s]"
      ]
     },
     "metadata": {},
     "output_type": "display_data"
    },
    {
     "data": {
      "application/vnd.jupyter.widget-view+json": {
       "model_id": "",
       "version_major": 2,
       "version_minor": 0
      },
      "text/plain": [
       "Validation: 0it [00:00, ?it/s]"
      ]
     },
     "metadata": {},
     "output_type": "display_data"
    },
    {
     "name": "stderr",
     "output_type": "stream",
     "text": [
      "Metric val/loss improved by 0.033 >= min_delta = 0.0. New best score: 1.179\n"
     ]
    },
    {
     "data": {
      "application/vnd.jupyter.widget-view+json": {
       "model_id": "",
       "version_major": 2,
       "version_minor": 0
      },
      "text/plain": [
       "Validation: 0it [00:00, ?it/s]"
      ]
     },
     "metadata": {},
     "output_type": "display_data"
    },
    {
     "name": "stderr",
     "output_type": "stream",
     "text": [
      "Metric val/loss improved by 0.031 >= min_delta = 0.0. New best score: 1.148\n"
     ]
    },
    {
     "data": {
      "application/vnd.jupyter.widget-view+json": {
       "model_id": "",
       "version_major": 2,
       "version_minor": 0
      },
      "text/plain": [
       "Validation: 0it [00:00, ?it/s]"
      ]
     },
     "metadata": {},
     "output_type": "display_data"
    },
    {
     "data": {
      "application/vnd.jupyter.widget-view+json": {
       "model_id": "",
       "version_major": 2,
       "version_minor": 0
      },
      "text/plain": [
       "Validation: 0it [00:00, ?it/s]"
      ]
     },
     "metadata": {},
     "output_type": "display_data"
    },
    {
     "data": {
      "application/vnd.jupyter.widget-view+json": {
       "model_id": "",
       "version_major": 2,
       "version_minor": 0
      },
      "text/plain": [
       "Validation: 0it [00:00, ?it/s]"
      ]
     },
     "metadata": {},
     "output_type": "display_data"
    },
    {
     "data": {
      "application/vnd.jupyter.widget-view+json": {
       "model_id": "",
       "version_major": 2,
       "version_minor": 0
      },
      "text/plain": [
       "Validation: 0it [00:00, ?it/s]"
      ]
     },
     "metadata": {},
     "output_type": "display_data"
    },
    {
     "data": {
      "application/vnd.jupyter.widget-view+json": {
       "model_id": "",
       "version_major": 2,
       "version_minor": 0
      },
      "text/plain": [
       "Validation: 0it [00:00, ?it/s]"
      ]
     },
     "metadata": {},
     "output_type": "display_data"
    },
    {
     "data": {
      "application/vnd.jupyter.widget-view+json": {
       "model_id": "",
       "version_major": 2,
       "version_minor": 0
      },
      "text/plain": [
       "Validation: 0it [00:00, ?it/s]"
      ]
     },
     "metadata": {},
     "output_type": "display_data"
    },
    {
     "data": {
      "application/vnd.jupyter.widget-view+json": {
       "model_id": "",
       "version_major": 2,
       "version_minor": 0
      },
      "text/plain": [
       "Validation: 0it [00:00, ?it/s]"
      ]
     },
     "metadata": {},
     "output_type": "display_data"
    },
    {
     "data": {
      "application/vnd.jupyter.widget-view+json": {
       "model_id": "",
       "version_major": 2,
       "version_minor": 0
      },
      "text/plain": [
       "Validation: 0it [00:00, ?it/s]"
      ]
     },
     "metadata": {},
     "output_type": "display_data"
    },
    {
     "name": "stderr",
     "output_type": "stream",
     "text": [
      "Metric val/loss improved by 0.008 >= min_delta = 0.0. New best score: 1.140\n"
     ]
    },
    {
     "data": {
      "application/vnd.jupyter.widget-view+json": {
       "model_id": "",
       "version_major": 2,
       "version_minor": 0
      },
      "text/plain": [
       "Validation: 0it [00:00, ?it/s]"
      ]
     },
     "metadata": {},
     "output_type": "display_data"
    },
    {
     "data": {
      "application/vnd.jupyter.widget-view+json": {
       "model_id": "",
       "version_major": 2,
       "version_minor": 0
      },
      "text/plain": [
       "Validation: 0it [00:00, ?it/s]"
      ]
     },
     "metadata": {},
     "output_type": "display_data"
    },
    {
     "data": {
      "application/vnd.jupyter.widget-view+json": {
       "model_id": "",
       "version_major": 2,
       "version_minor": 0
      },
      "text/plain": [
       "Validation: 0it [00:00, ?it/s]"
      ]
     },
     "metadata": {},
     "output_type": "display_data"
    },
    {
     "data": {
      "application/vnd.jupyter.widget-view+json": {
       "model_id": "",
       "version_major": 2,
       "version_minor": 0
      },
      "text/plain": [
       "Validation: 0it [00:00, ?it/s]"
      ]
     },
     "metadata": {},
     "output_type": "display_data"
    },
    {
     "data": {
      "application/vnd.jupyter.widget-view+json": {
       "model_id": "",
       "version_major": 2,
       "version_minor": 0
      },
      "text/plain": [
       "Validation: 0it [00:00, ?it/s]"
      ]
     },
     "metadata": {},
     "output_type": "display_data"
    },
    {
     "data": {
      "application/vnd.jupyter.widget-view+json": {
       "model_id": "",
       "version_major": 2,
       "version_minor": 0
      },
      "text/plain": [
       "Validation: 0it [00:00, ?it/s]"
      ]
     },
     "metadata": {},
     "output_type": "display_data"
    },
    {
     "data": {
      "application/vnd.jupyter.widget-view+json": {
       "model_id": "",
       "version_major": 2,
       "version_minor": 0
      },
      "text/plain": [
       "Validation: 0it [00:00, ?it/s]"
      ]
     },
     "metadata": {},
     "output_type": "display_data"
    },
    {
     "data": {
      "application/vnd.jupyter.widget-view+json": {
       "model_id": "",
       "version_major": 2,
       "version_minor": 0
      },
      "text/plain": [
       "Validation: 0it [00:00, ?it/s]"
      ]
     },
     "metadata": {},
     "output_type": "display_data"
    },
    {
     "data": {
      "application/vnd.jupyter.widget-view+json": {
       "model_id": "",
       "version_major": 2,
       "version_minor": 0
      },
      "text/plain": [
       "Validation: 0it [00:00, ?it/s]"
      ]
     },
     "metadata": {},
     "output_type": "display_data"
    },
    {
     "data": {
      "application/vnd.jupyter.widget-view+json": {
       "model_id": "",
       "version_major": 2,
       "version_minor": 0
      },
      "text/plain": [
       "Validation: 0it [00:00, ?it/s]"
      ]
     },
     "metadata": {},
     "output_type": "display_data"
    },
    {
     "name": "stderr",
     "output_type": "stream",
     "text": [
      "Monitored metric val/loss did not improve in the last 10 records. Best score: 1.140. Signaling Trainer to stop.\n"
     ]
    }
   ],
   "source": [
    "from pytorch_lightning.loggers import WandbLogger\n",
    "from pytorch_lightning.callbacks.early_stopping import EarlyStopping\n",
    "\n",
    "wandb_logger = WandbLogger(name='FCOS-baseline')\n",
    "\n",
    "model = LitFCOS(batch_size = batch_size, num_classes = 7,optimizer='AdamW', scheduler='BaselineLRScheduler',\n",
    "                                     backbone='resnet18')\n",
    "\n",
    "trainer = pl.Trainer(max_epochs = 50, accelerator='gpu', \n",
    "                     callbacks=[EarlyStopping(monitor=\"val/loss\", mode=\"min\", verbose=True, patience=10)],\n",
    "                     logger =wandb_logger, reload_dataloaders_every_n_epochs=1)\n",
    "\n",
    "trainer.fit(model, datamodule=dm)"
   ]
  },
  {
   "cell_type": "markdown",
   "id": "1ca2277a",
   "metadata": {},
   "source": [
    "## Validation run (on MIDOG cases)\n",
    "\n",
    "The validation run uses the same sampling scheme as the training to have better statistics for all classes."
   ]
  },
  {
   "cell_type": "code",
   "execution_count": 8,
   "id": "67b0c9d9",
   "metadata": {
    "scrolled": false
   },
   "outputs": [
    {
     "data": {
      "application/vnd.jupyter.widget-view+json": {
       "model_id": "edf7601008d84ade8ef679096191893c",
       "version_major": 2,
       "version_minor": 0
      },
      "text/plain": [
       "  0%|          | 0/250 [00:05<?, ?it/s]"
      ]
     },
     "metadata": {},
     "output_type": "display_data"
    }
   ],
   "source": [
    "from tqdm.auto import tqdm\n",
    "from sklearn.metrics import mean_squared_error\n",
    "from src.utils import match_scores_targets\n",
    "model = model.eval().cuda()\n",
    "\n",
    "\n",
    "all_gt_scores = []\n",
    "all_predictions = []\n",
    "all_prediction_labels = []\n",
    "all_prediction_logits = []\n",
    "with torch.no_grad():\n",
    "    for n, (img,target) in enumerate(tqdm(dm.val_dataloader())):\n",
    "        pred = model(img.cuda(),[{'boxes': y['boxes'].cuda(), 'labels': y['labels'].cuda()} for y in target])[0]\n",
    "        pred = [{x:y[x].cpu() for x in y } for y in pred]\n",
    "        for p,t in zip(pred,target):\n",
    "            boxes = p['boxes'].numpy()\n",
    "            scores = p['scores'].numpy()\n",
    "            logits = p['cls_logits'].numpy()\n",
    "            scl_pred = p['labels'].numpy()\n",
    "            \n",
    "            annos = t['boxes'].numpy()\n",
    "            scl_targets = t['labels'].numpy()\n",
    "            gt_scores, pred_labels,_,_ = match_scores_targets(boxes,scores,scl_pred,annos,scl_targets, radius = 25, det_th = 0.5)\n",
    "            gt_scores, pred_scores,_,_ = match_scores_targets(boxes,scores,scores,annos,scl_targets, radius = 25, det_th = 0.5)\n",
    "            gt_scores, pred_logits,_,_ = match_scores_targets(boxes,scores,logits,annos,scl_targets, radius = 25, det_th = 0.5)\n",
    "            \n",
    "            all_gt_scores.extend(gt_scores)\n",
    "            all_predictions.extend(pred_labels)\n",
    "            all_prediction_labels.extend(pred_scores)\n",
    "            all_prediction_logits.extend(pred_logits)\n",
    "\n",
    "    \n",
    "            \n"
   ]
  },
  {
   "cell_type": "markdown",
   "id": "9d37a84a",
   "metadata": {},
   "source": [
    "### Calculate the confusion matrix on the validation set"
   ]
  },
  {
   "cell_type": "code",
   "execution_count": 9,
   "id": "8f1bbef0",
   "metadata": {},
   "outputs": [
    {
     "data": {
      "text/plain": [
       "(array([1, 2, 3, 4, 5, 6]), array([1, 2, 3, 4, 5, 6]))"
      ]
     },
     "execution_count": 9,
     "metadata": {},
     "output_type": "execute_result"
    }
   ],
   "source": [
    "np.unique(all_gt_scores), np.unique(all_predictions)"
   ]
  },
  {
   "cell_type": "code",
   "execution_count": 10,
   "id": "90d07efc",
   "metadata": {},
   "outputs": [
    {
     "data": {
      "text/plain": [
       "<sklearn.metrics._plot.confusion_matrix.ConfusionMatrixDisplay at 0x7efb62af5dc0>"
      ]
     },
     "execution_count": 10,
     "metadata": {},
     "output_type": "execute_result"
    },
    {
     "data": {
      "image/png": "[encoded data removed]",
      "text/plain": [
       "<Figure size 432x288 with 2 Axes>"
      ]
     },
     "metadata": {
      "needs_background": "light"
     },
     "output_type": "display_data"
    }
   ],
   "source": [
    "from sklearn.metrics import confusion_matrix,ConfusionMatrixDisplay\n",
    "cm = confusion_matrix(y_true=all_gt_scores, y_pred=all_predictions)\n",
    "ConfusionMatrixDisplay(confusion_matrix=cm, display_labels=subclass_names[1:]).plot(xticks_rotation='vertical')\n"
   ]
  },
  {
   "cell_type": "code",
   "execution_count": 11,
   "id": "42277db6",
   "metadata": {},
   "outputs": [
    {
     "name": "stdout",
     "output_type": "stream",
     "text": [
      "The accuracy is:  0.855072463768116\n"
     ]
    }
   ],
   "source": [
    "accuracy = np.sum((np.eye(5)*cm[1:,1:]))/np.sum(cm[1:,1:])\n",
    "print('The accuracy is: ',accuracy)"
   ]
  },
  {
   "cell_type": "code",
   "execution_count": 12,
   "id": "a56576bc",
   "metadata": {},
   "outputs": [
    {
     "data": {
      "text/plain": [
       "Text(0.5, 1.0, 'Non-Hierarchical Classifier, Atypical/Typical decision, AUC=0.681')"
      ]
     },
     "execution_count": 12,
     "metadata": {},
     "output_type": "execute_result"
    },
    {
     "data": {
      "image/png": "[encoded data removed]",
      "text/plain": [
       "<Figure size 432x288 with 1 Axes>"
      ]
     },
     "metadata": {
      "needs_background": "light"
     },
     "output_type": "display_data"
    }
   ],
   "source": [
    "from matplotlib import pyplot as plt\n",
    "sel = np.stack(all_gt_scores)>=0\n",
    "from sklearn.metrics import roc_curve\n",
    "fpr,tpr,thrs = roc_curve(y_score=np.stack(all_prediction_logits)[sel,2], y_true=np.stack(all_gt_scores)[sel]==2)\n",
    "plt.plot(fpr,tpr)\n",
    "plt.xlabel('TPR')\n",
    "plt.plot([0,1],[0,1],'k--')\n",
    "plt.ylabel('FPR')\n",
    "\n",
    "from sklearn.metrics import roc_auc_score\n",
    "auc = roc_auc_score(y_score=np.stack(all_prediction_logits)[sel,1], y_true=np.stack(all_gt_scores)[sel]==1)\n",
    "plt.title('Non-Hierarchical Classifier, Atypical/Typical decision, AUC=%.3f' % auc)\n",
    "\n"
   ]
  },
  {
   "cell_type": "markdown",
   "id": "31047fcc",
   "metadata": {},
   "source": [
    "# Evaluate on TUPAC16\n",
    "\n",
    "TUPAC16 serves as independent hold out test set for our experiment."
   ]
  },
  {
   "cell_type": "code",
   "execution_count": 13,
   "id": "b8e0151c",
   "metadata": {},
   "outputs": [],
   "source": [
    "db = 'databases_atypia/TUPAC_alternativeLabels_augmented.sqlite'\n",
    "DB = Database().open(db)\n",
    "classes = {x:y for x,y,_,_ in DB.getAllClasses() }\n",
    "databases_directories = [['databases_atypia/TUPAC_alternativeLabels_augmented.sqlite', 'images_mitosis_tupac16/'],\n",
    "                         ]\n",
    "\n",
    "annotations_dict_testset={}\n",
    "\n",
    "class_mapping = { 'Mitose' : 1,\n",
    "                  'Mitosis - AMF OTHER': 2,\n",
    "                  'Mitosis - AMF BIPOLAR ASYMMETRIC CAN ALSO HAVE SEGREGATION': 2,\n",
    "                  'Mitosis - AMF MULTIPOLAR ASYMMETRY CAN ALSO HAVE SEGREGATION': 2,\n",
    "                  'Mitosis - AMF SEGREGATION ONLY':2,\n",
    "                  'Mitosis - RING SHAPE (PROMETAPHASE OR METAPHASE)': 3,\n",
    "                  'Mitosis - NORMAL ANAPHASE-TELOPHASE': 4,\n",
    "                  'Mitosis - NORMAL PROMETAPHASE': 5,\n",
    "                  'Mitosis - NORMAL METAPHASE': 6\n",
    "                }\n",
    "\n",
    "subclass_names = ['Background', 'Mitosis (no subclass)','AMF', 'RING SHAPE', 'ANAPHASE-TELOPHASE','PROMETAPHASE','METAPHASE']\n",
    "value_to_class_DB = {y:x for x,y,_,_ in DB.getAllClasses() }\n",
    "value_to_class = {x:y for x,y in enumerate(subclass_names) }\n",
    "\n",
    "skipped_classes=[]\n",
    "\n",
    "for dbfile, folder in databases_directories:\n",
    "    DB.open(dbfile)\n",
    "    for uid, fname in DB.listOfSlides()[0:150]:\n",
    "        fname = folder+fname\n",
    "        DB.loadIntoMemory(uid)\n",
    "        annotations_dict_testset[fname] = {}\n",
    "        for annoI in DB.annotations:\n",
    "            anno = DB.annotations[annoI]\n",
    "            if (value_to_class_DB[anno.agreedClass] not in class_mapping): # skip non-mitotic figures\n",
    "                skipped_classes.append(anno.agreedClass)\n",
    "                continue\n",
    "            cls = class_mapping[value_to_class_DB[anno.agreedClass]]\n",
    "            annotations_dict_testset[fname][annoI] = {'x': [int(anno.x1-25),int(anno.x1+25)], 'y': [int(anno.y1-25), int(anno.y1+25)], 'class': cls}\n",
    "\n"
   ]
  },
  {
   "cell_type": "code",
   "execution_count": 14,
   "id": "91a820bf",
   "metadata": {},
   "outputs": [],
   "source": [
    "from src.Dataset import FlatObjectsDataset\n",
    "from torch.utils.data import DataLoader\n",
    "\n",
    "testset = FlatObjectsDataset(annotations_dict=annotations_dict_testset,\n",
    "                                      slide_names=list(annotations_dict_testset.keys()),\n",
    "                                      path_to_slides='./',\n",
    "                                      labels=np.arange(1,7),\n",
    "                                      crop_size=crop_size,\n",
    "                                      sampling='continuous',\n",
    "                                      pseudo_epoch_length=2000,\n",
    "                                      transformations=None)\n",
    "testset_dl = DataLoader(dataset = testset, batch_size = 8, shuffle = False, \n",
    "                        num_workers = 8, collate_fn = testset.collate_fn)"
   ]
  },
  {
   "cell_type": "code",
   "execution_count": 15,
   "id": "d503ebc9",
   "metadata": {},
   "outputs": [
    {
     "data": {
      "application/vnd.jupyter.widget-view+json": {
       "model_id": "8755be5e4bc44a62afb56394c4c98c01",
       "version_major": 2,
       "version_minor": 0
      },
      "text/plain": [
       "  0%|          | 0/1197 [00:09<?, ?it/s]"
      ]
     },
     "metadata": {},
     "output_type": "display_data"
    }
   ],
   "source": [
    "from tqdm.auto import tqdm\n",
    "from sklearn.metrics import mean_squared_error\n",
    "from src.utils import match_scores_targets\n",
    "from torchmetrics.detection.mean_ap import MeanAveragePrecision\n",
    "model = model.eval().cuda()\n",
    "\n",
    "\n",
    "all_gt_scores = []\n",
    "all_predictions = []\n",
    "all_prediction_labels = []\n",
    "all_prediction_logits = []\n",
    "metrics={}\n",
    "metric = MeanAveragePrecision(num_classes=2,iou_thresholds=[0.5], class_metrics=True)\n",
    "metric_per_class = MeanAveragePrecision(num_classes=7,iou_thresholds=[0.5], class_metrics=True)\n",
    "\n",
    "with torch.no_grad():\n",
    "    for n, (img,target) in enumerate(tqdm(testset_dl)):\n",
    "        pred = model(img.cuda(),[{'boxes': y['boxes'].cuda(), 'labels': y['labels'].cuda()} for y in target])[0]\n",
    "        pred = [{x:y[x].cpu() for x in y } for y in pred]\n",
    "        for p,t in zip(pred,target):\n",
    "            boxes = p['boxes'].numpy()\n",
    "            scores = p['scores'].numpy()\n",
    "            logits = p['cls_logits'].numpy()\n",
    "            scl_pred = p['labels'].numpy()\n",
    "            \n",
    "            annos = t['boxes'].numpy()\n",
    "            scl_targets = t['labels'].numpy()\n",
    "            gt_scores, pred_labels,_,_ = match_scores_targets(boxes,scores,scl_pred,annos,scl_targets, radius = 25, det_th = 0.5)\n",
    "            gt_scores, pred_scores,_,_ = match_scores_targets(boxes,scores,scores,annos,scl_targets, radius = 25, det_th = 0.5)\n",
    "            gt_scores, pred_logits,_,_ = match_scores_targets(boxes,scores,logits,annos,scl_targets, radius = 25, det_th = 0.5)\n",
    "            \n",
    "            all_gt_scores.extend(gt_scores)\n",
    "            all_predictions.extend(pred_labels)\n",
    "            all_prediction_labels.extend(pred_scores)\n",
    "            all_prediction_logits.extend(pred_logits)\n",
    "\n",
    "            # update metrics\n",
    "            targets=[]\n",
    "            preds=[]\n",
    "            \n",
    "            for idx, sample in enumerate(target):\n",
    "                if sample['boxes'].size(0) == 0:\n",
    "                    target[idx]['boxes'] = torch.zeros((1, 4), dtype=torch.float32)\n",
    "                    # === geändert wegen dataset Änderung === #\n",
    "                    target[idx]['labels'] = torch.tensor([0],dtype=torch.int64)\n",
    "                # correct indices (since class -1 is represented by 0 in the baseline, as we don't account for unknown subclasses)\n",
    "                #targets[idx]['labels'] = targets[idx]['labels'] + 1\n",
    "            # overall metrics compute\n",
    "                targets.append({'labels' : (sample['labels']>0).int(), 'boxes': sample['boxes']})\n",
    "                preds.append({'scores': pred[idx]['scores'], 'labels': (pred[idx]['labels']>0).int(),\n",
    "                              'boxes': pred[idx]['boxes']})\n",
    "            metric.update(preds, targets)\n",
    "            metric_per_class.update(pred,target)\n",
    "\n",
    "metrics = metric.compute()\n",
    "metrics['per_class'] = metric.compute()\n",
    "    \n",
    "#all_gt_scores = np.array(all_gt_scores)"
   ]
  },
  {
   "cell_type": "code",
   "execution_count": 16,
   "id": "c7cf94eb",
   "metadata": {},
   "outputs": [
    {
     "data": {
      "text/plain": [
       "{'map': tensor(0.2764),\n",
       " 'map_50': tensor(0.2764),\n",
       " 'map_75': tensor(-1),\n",
       " 'map_small': tensor(0.),\n",
       " 'map_medium': tensor(0.5527),\n",
       " 'map_large': tensor(-1.),\n",
       " 'mar_1': tensor(0.2669),\n",
       " 'mar_10': tensor(0.4514),\n",
       " 'mar_100': tensor(0.4591),\n",
       " 'mar_small': tensor(0.),\n",
       " 'mar_medium': tensor(0.9181),\n",
       " 'mar_large': tensor(-1.),\n",
       " 'map_per_class': tensor([0.0000, 0.5527]),\n",
       " 'mar_100_per_class': tensor([0.0000, 0.9181]),\n",
       " 'per_class': {...}}"
      ]
     },
     "execution_count": 16,
     "metadata": {},
     "output_type": "execute_result"
    }
   ],
   "source": [
    "metrics"
   ]
  },
  {
   "cell_type": "code",
   "execution_count": null,
   "id": "9e98e58b",
   "metadata": {},
   "outputs": [],
   "source": []
  },
  {
   "cell_type": "markdown",
   "id": "69e18e90",
   "metadata": {},
   "source": [
    "### Calculate atypical/typical ROC curve"
   ]
  },
  {
   "cell_type": "code",
   "execution_count": 17,
   "id": "c93f2470",
   "metadata": {},
   "outputs": [
    {
     "data": {
      "image/png": "[encoded data removed]",
      "text/plain": [
       "<Figure size 432x288 with 1 Axes>"
      ]
     },
     "metadata": {
      "needs_background": "light"
     },
     "output_type": "display_data"
    }
   ],
   "source": [
    "sel = np.stack(all_gt_scores)>0\n",
    "from sklearn.metrics import roc_curve\n",
    "fpr,tpr,thrs = roc_curve(y_score=np.stack(all_prediction_logits)[sel,2], y_true=np.stack(all_gt_scores)[sel]==2)\n",
    "plt.plot(fpr,tpr)\n",
    "plt.xlabel('TPR')\n",
    "plt.plot([0,1],[0,1],'k--')\n",
    "plt.ylabel('FPR')\n",
    "\n",
    "from sklearn.metrics import roc_auc_score\n",
    "auc = roc_auc_score(y_score=np.stack(all_prediction_logits)[sel,2], y_true=np.stack(all_gt_scores)[sel]==2)\n",
    "plt.title('Non-Hierarchical Classifier, Atypical/Typical decision, AUC=%.3f, N = %d' % (auc,len(all_prediction_logits)))\n",
    "plt.savefig('ROC_atypical_typical_flat_run%d.svg' % run)\n"
   ]
  },
  {
   "cell_type": "code",
   "execution_count": 18,
   "id": "a050ed38",
   "metadata": {},
   "outputs": [
    {
     "data": {
      "text/plain": [
       "(array([1, 2, 3, 4, 5, 6]), array([1, 2, 4, 5, 6]))"
      ]
     },
     "execution_count": 18,
     "metadata": {},
     "output_type": "execute_result"
    }
   ],
   "source": [
    "np.unique(all_gt_scores), np.unique(all_predictions)"
   ]
  },
  {
   "cell_type": "markdown",
   "id": "956f7fba",
   "metadata": {},
   "source": [
    "### Calculate ROC curve as one vs. rest"
   ]
  },
  {
   "cell_type": "code",
   "execution_count": 19,
   "id": "592bb7c5",
   "metadata": {},
   "outputs": [
    {
     "data": {
      "image/png": "[encoded data removed]",
      "text/plain": [
       "<Figure size 432x288 with 1 Axes>"
      ]
     },
     "metadata": {
      "needs_background": "light"
     },
     "output_type": "display_data"
    }
   ],
   "source": [
    "sel = np.stack(all_gt_scores)>0\n",
    "from sklearn.metrics import roc_curve\n",
    "for i in np.arange(2,7):\n",
    "    fpr,tpr,thrs = roc_curve(y_score=np.stack(all_prediction_logits)[sel,i], y_true=np.stack(all_gt_scores)[sel]==i)\n",
    "    auc = roc_auc_score(y_score=np.stack(all_prediction_logits)[sel,i], y_true=np.stack(all_gt_scores)[sel]==i)\n",
    "    plt.plot(fpr,tpr, label=f'{subclass_names[i]}, AUC={auc:.3f}')\n",
    "\n",
    "plt.xlabel('TPR')\n",
    "plt.plot([0,1],[0,1],'k--')\n",
    "plt.ylabel('FPR')\n",
    "\n",
    "from sklearn.metrics import roc_auc_score\n",
    "plt.legend()\n",
    "plt.title(f'Non-Hierarchical Classifier, Mitotic Phase, One vs. Rest')\n",
    "\n",
    "#, AUC={auc:.3f}'  )\n",
    "plt.savefig('ROC_mitotic_phase_flat_run%d.svg' % run)\n"
   ]
  },
  {
   "cell_type": "code",
   "execution_count": 20,
   "id": "9cd50694",
   "metadata": {},
   "outputs": [],
   "source": [
    "torch.save({'cm1':cm, 'all_gt_scores': all_gt_scores,\n",
    "                      'all_predictions':all_predictions,\n",
    "            'metrics': metrics,\n",
    "            }, 'run%d_baseline.pth'% run)"
   ]
  },
  {
   "cell_type": "code",
   "execution_count": null,
   "id": "3cec7767",
   "metadata": {},
   "outputs": [],
   "source": []
  }
 ],
 "metadata": {
  "kernelspec": {
   "display_name": "Python 3 (ipykernel)",
   "language": "python",
   "name": "python3"
  },
  "language_info": {
   "codemirror_mode": {
    "name": "ipython",
    "version": 3
   },
   "file_extension": ".py",
   "mimetype": "text/x-python",
   "name": "python",
   "nbconvert_exporter": "python",
   "pygments_lexer": "ipython3",
   "version": "3.8.10"
  },
  "vscode": {
   "interpreter": {
    "hash": "97825ee788e89970c5e1326e3a8e2ffc83913c5a8306b832b194d1fccd0a0039"
   }
  }
 },
 "nbformat": 4,
 "nbformat_minor": 5
}
